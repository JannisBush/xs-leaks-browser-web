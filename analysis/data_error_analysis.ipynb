{
 "cells": [
  {
   "cell_type": "code",
   "execution_count": null,
   "id": "2c3bb94c",
   "metadata": {},
   "outputs": [],
   "source": [
    "%load_ext autoreload\n",
    "%autoreload 2"
   ]
  },
  {
   "cell_type": "code",
   "execution_count": null,
   "id": "4ecf0d34",
   "metadata": {},
   "outputs": [],
   "source": [
    "import time\n",
    "import glob \n",
    "import os\n",
    "import pandas as pd\n",
    "import numpy as np\n",
    "import qgrid"
   ]
  },
  {
   "cell_type": "markdown",
   "id": "7f335021",
   "metadata": {},
   "source": [
    "# Analysis"
   ]
  },
  {
   "cell_type": "code",
   "execution_count": null,
   "id": "bb39a51e-268a-4402-9a8a-97e9ccde7c33",
   "metadata": {},
   "outputs": [],
   "source": [
    "latest_res = max(glob.glob(\"data/res-*\"), key=os.path.getctime)\n",
    "res = pd.read_pickle(latest_res)\n",
    "res.info()"
   ]
  },
  {
   "cell_type": "markdown",
   "id": "fa87d5b4",
   "metadata": {},
   "source": [
    "## Error analysis"
   ]
  },
  {
   "cell_type": "code",
   "execution_count": null,
   "id": "c507a1f5-a042-4f91-9567-70ed1eef74a9",
   "metadata": {},
   "outputs": [],
   "source": [
    "res[\"retest\"].value_counts()"
   ]
  },
  {
   "cell_type": "code",
   "execution_count": null,
   "id": "4ad9f7b7-f72d-4c2f-8fdc-dbe68fac15b8",
   "metadata": {},
   "outputs": [],
   "source": [
    "# Problem only 3 different bodies in the retest?, everything else occurred\n",
    "res.loc[res[\"retest\"] == True].groupby([\"browser\", \"inc_method\"]).agg([\"nunique\"])"
   ]
  },
  {
   "cell_type": "code",
   "execution_count": null,
   "id": "9b179eb4-ca64-4bf2-b379-c0413e501c89",
   "metadata": {},
   "outputs": [],
   "source": [
    "res[\"gp_download_bar_height\"] = res[\"gp_download_bar_height\"].astype(\"int\")\n",
    "res[\"gp_download_bar_height_bin\"] = res[\"gp_download_bar_height\"].apply(lambda x: True if x > 45 else False)"
   ]
  },
  {
   "cell_type": "code",
   "execution_count": null,
   "id": "c4831729",
   "metadata": {},
   "outputs": [],
   "source": [
    "# Get all on purpose duplicated entries (once retest=True, once=False) (+the ones that are for unknown reasons doubled (8 tests for the main run, 2 with different results, +another 16000))\n",
    "his = res.loc[res.duplicated(subset=[\"browser_id\", \"test_id\"], keep=False)]\n",
    "#qgrid.show_grid(his)\n",
    "# Check them for uniqueness on other columns\n",
    "#qgrid.show_grid(his.groupby([\"browser_id\", \"test_id\"]).agg(\"nunique\"), show_toolbar=True)\n",
    "\n",
    "his = his.groupby([\"browser_id\", \"test_id\"]).agg(\"nunique\")\n",
    "his = his.loc[:, (his != his.iloc[0]).any()]\n",
    "his = his[his.columns[~his.columns.isin([\"loading_time\", \"complete_time\"])]]\n",
    "his = his.drop(his.filter(regex=\"id$\").columns,axis=1)\n",
    "tis = pd.merge(his.reset_index()[[\"browser_id\", \"test_id\"]], res, how=\"inner\", on=[\"browser_id\", \"test_id\"])\n",
    "# All entries that have more than one value\n",
    "#qgrid.show_grid(his, show_toolbar=True)\n",
    "his"
   ]
  },
  {
   "cell_type": "code",
   "execution_count": null,
   "id": "367978d2-f640-47c2-aea2-54fba93db663",
   "metadata": {},
   "outputs": [],
   "source": [
    "tis.groupby([\"retest\", \"browser_id\"]).count()"
   ]
  },
  {
   "cell_type": "code",
   "execution_count": null,
   "id": "04902d5a-196a-49a2-b87e-4c6bf4f67c73",
   "metadata": {},
   "outputs": [],
   "source": [
    "res.loc[res[\"test_id\"] == 4414621]"
   ]
  },
  {
   "cell_type": "code",
   "execution_count": null,
   "id": "ea9a97ea",
   "metadata": {},
   "outputs": [],
   "source": [
    "# Show all unstable methods with some info\n",
    "# gp_window_onblur is unstable in firefox (do not use?)\n",
    "# gp_download_bar_height is unstable in chromium-based browsers (automation banner) -> replace with new column smaller/larger 45? this should be stable?/or remove?\n",
    "# for some the timeout/wait_time was not high enough?, we need to increase it? (old wait_time was 120ms)\n",
    "# event_set, op_frame_count, op_win_window, op_win_opener all differences are due to wait_time too small? (firefox maybe not?)\n",
    "# op_win_history_length was buggy, because it does not reset for page loads (now we open a new tab for every URL and it should be fixed) (50 is maximum)\n",
    "# Retest window.open results: all op_ methods are stable? (except for chrome where the retest was buggy? allmost all diffs have the same scheme between first try and retest try\n",
    "# we have to use chrome and edge now? (or redo chrome, seems like in the retest the renavigation of the window was often not possible)\n",
    "unstable_dict = {}\n",
    "columns = his.columns\n",
    "for column in columns:\n",
    "    if column in [\"id_x\", \"retest\"]:\n",
    "        continue\n",
    "    unstable_dict[column] = tis.groupby([\"browser_id\", \"test_id\", column]).filter(lambda x: len(x) == 1)[[\"browser\", \"test_id\", \"url_id\", \"inc_method\", \"retest\", column]]\n",
    "    display(unstable_dict[column])"
   ]
  },
  {
   "cell_type": "code",
   "execution_count": null,
   "id": "93f398f7-99fe-4fcb-8bf9-9568950e4355",
   "metadata": {},
   "outputs": [],
   "source": [
    "print(unstable_dict.keys())\n",
    "prop = \"op_win_window\"\n",
    "display(unstable_dict[prop][\"test_id\"].nunique())\n",
    "temp = unstable_dict[prop].groupby([\"browser\", \"inc_method\", \"retest\", prop])[\"test_id\"].agg([\"nunique\"])\n",
    "qgrid.show_grid(temp.loc[temp[\"nunique\"] != 0])"
   ]
  },
  {
   "cell_type": "code",
   "execution_count": null,
   "id": "300747b3-5bda-4728-b020-195e7f729f70",
   "metadata": {},
   "outputs": [],
   "source": [
    "res.loc[(res[\"body\"] == \"ecocnt_html=post_message=mes1\") & (res[\"browser\"] == \"firefox\") & (res[\"Status-Code\"] == 501) & (res[\"Content-Type\"] == \"text/html\") & (res[\"Location\"] == \"http://172.17.0.1:8000\") & (res[\"inc_method\"] == \"window.open\") & (res[\"X-Frame-Options\"] == \"deny\") & (res[\"Content-Disposition\"]== \"empty\")][[\"url_id\"]]"
   ]
  },
  {
   "cell_type": "code",
   "execution_count": null,
   "id": "f0017848-8240-4920-9196-a7db8df4bc84",
   "metadata": {},
   "outputs": [],
   "source": [
    "res.loc[(res[\"inc_method\"] == \"audio\")].groupby([\"browser\"])[\"event_set\"].value_counts()"
   ]
  },
  {
   "cell_type": "code",
   "execution_count": null,
   "id": "c51fab0d",
   "metadata": {},
   "outputs": [],
   "source": [
    "# Here the wait_time was not high enough for chrome in the second run\n",
    "# we need some time to let the window load (switch origins)/not included in the load event of the page\n",
    "\n",
    "res.loc[(res[\"url_id\"] == 24776) & (res[\"inc_method\"] == \"window.open\")][[\"browser\", \"op_frame_count\", \"op_win_window\", \"op_win_opener\"]]"
   ]
  },
  {
   "cell_type": "code",
   "execution_count": null,
   "id": "30341ca3",
   "metadata": {},
   "outputs": [],
   "source": [
    "res.loc[(res[\"url_id\"] == 24676) & (res[\"inc_method\"] == \"link-prefetch\")][[\"browser\", \"event_list\"]]"
   ]
  },
  {
   "cell_type": "code",
   "execution_count": null,
   "id": "76bf9c27",
   "metadata": {},
   "outputs": [],
   "source": [
    "res.columns"
   ]
  },
  {
   "cell_type": "markdown",
   "id": "16d731c2-101f-425d-a42d-0b788e91eff4",
   "metadata": {},
   "source": [
    "## Timing information!"
   ]
  },
  {
   "cell_type": "code",
   "execution_count": null,
   "id": "4100129e",
   "metadata": {},
   "outputs": [],
   "source": [
    "# Chromium based browsers are very slow for window.open\n",
    "# They load fast for audio, video, img (but some of this is due to the fact that they throw the load event before the parsing/error-handling is done, firefox does not do this)\n",
    "timing_table = res.groupby([\"browser\", \"inc_method\"])[[\"loading_time\",\"complete_time\"]].agg([\"mean\", \"std\", \"min\", \"max\"]).reset_index()\n",
    "timing_table = timing_table.loc[timing_table[\"browser\"] != \"MicrosoftEdge\"].sort_values([\"inc_method\", \"browser\"]).set_index([\"inc_method\", \"browser\"])\n",
    "timing_table[[(\"loading_time\", \"min\"), (\"loading_time\", \"max\"), (\"complete_time\", \"min\"), (\"complete_time\", \"max\")]] = timing_table[[(\"loading_time\", \"min\"), (\"loading_time\", \"max\"), (\"complete_time\", \"min\"), (\"complete_time\", \"max\")]].astype(int)\n",
    "timing_table"
   ]
  },
  {
   "cell_type": "code",
   "execution_count": null,
   "id": "9485da05-ae87-4934-8fd6-cca6894b784c",
   "metadata": {},
   "outputs": [],
   "source": [
    "with open(\"tables/timing_incs\", \"w\") as f:\n",
    "    f.write(timing_table.round(2).to_latex())"
   ]
  },
  {
   "cell_type": "code",
   "execution_count": null,
   "id": "d90f8822-fd61-4afd-acae-732e49b71bbb",
   "metadata": {},
   "outputs": [],
   "source": []
  }
 ],
 "metadata": {
  "language_info": {
   "name": "python",
   "pygments_lexer": "ipython3"
  }
 },
 "nbformat": 4,
 "nbformat_minor": 5
}
