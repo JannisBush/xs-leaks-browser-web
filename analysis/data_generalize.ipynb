{
 "cells": [
  {
   "cell_type": "code",
   "execution_count": null,
   "id": "2c3bb94c",
   "metadata": {},
   "outputs": [],
   "source": [
    "%load_ext autoreload\n",
    "%autoreload 2"
   ]
  },
  {
   "cell_type": "code",
   "execution_count": null,
   "id": "4ecf0d34",
   "metadata": {},
   "outputs": [],
   "source": [
    "import json\n",
    "import time\n",
    "import glob \n",
    "import os\n",
    "import pandas as pd\n",
    "import numpy as np\n",
    "import ray\n",
    "import h2o\n",
    "h2o.init(nthreads=70, max_mem_size=\"250G\")\n",
    "#ray.init(num_cpus=29, ignore_reinit_error=True)\n",
    "import qgrid\n",
    "\n",
    "from tree import generalize, create_tree_dirs"
   ]
  },
  {
   "cell_type": "markdown",
   "id": "7f335021",
   "metadata": {},
   "source": [
    "# Analysis"
   ]
  },
  {
   "cell_type": "code",
   "execution_count": null,
   "id": "bb39a51e-268a-4402-9a8a-97e9ccde7c33",
   "metadata": {},
   "outputs": [],
   "source": [
    "latest_res = max(glob.glob(\"data/res-*\"), key=os.path.getctime)\n",
    "res = pd.read_pickle(latest_res)\n",
    "res.info()"
   ]
  },
  {
   "cell_type": "code",
   "execution_count": null,
   "id": "af613404-2487-4303-b204-9781ae445385",
   "metadata": {},
   "outputs": [],
   "source": [
    "#qgrid.show_grid(res, show_toolbar=True)"
   ]
  },
  {
   "cell_type": "markdown",
   "id": "fa87d5b4",
   "metadata": {},
   "source": [
    "## Error analysis"
   ]
  },
  {
   "cell_type": "markdown",
   "id": "b3d12b8d",
   "metadata": {},
   "source": [
    "## Generalize data"
   ]
  },
  {
   "cell_type": "code",
   "execution_count": null,
   "id": "2f071e4c-3020-444c-a4bd-228901c0402f",
   "metadata": {},
   "outputs": [],
   "source": [
    "res.loc[res[\"url_id\"] == 0]"
   ]
  },
  {
   "cell_type": "code",
   "execution_count": null,
   "id": "dd18a431-4003-4d3b-85a4-19974643943c",
   "metadata": {},
   "outputs": [],
   "source": [
    "# remove all retested ones (error analysis is done above, if we have two identical tests with different outcomes, this is a problem for the decision trees as they cannot achieve 100% accuracy anymore)\n",
    "res =  res.loc[res[\"retest\"] == False]"
   ]
  },
  {
   "cell_type": "code",
   "execution_count": null,
   "id": "afedc21e-10bb-4ae9-9407-0a3b68cb9030",
   "metadata": {},
   "outputs": [],
   "source": [
    "res.loc[(res[\"inc_method\"]==\"img\") & (res[\"browser_id\"] == 1)][['Status-Code', 'body',\n",
    "       'X-Content-Type-Options', 'X-Frame-Options', 'Content-Type',\n",
    "       'Content-Disposition', 'Cross-Origin-Resource-Policy',\n",
    "       'Cross-Origin-Opener-Policy', 'Location', 'op_el_width', 'event_set']].sample(frac=0.1)"
   ]
  },
  {
   "cell_type": "code",
   "execution_count": null,
   "id": "350aaddb-bbea-42c2-86be-90d829b71bde",
   "metadata": {},
   "outputs": [],
   "source": [
    "res.loc[(res[\"inc_method\"]==\"img\") & (res[\"browser_id\"] == 1) & (res[\"Content-Disposition\"] == \"attachment\") & (res[\"body\"] == \"ecocnt_img=width=50,height=50,type=png\")][[\"url_id\", \"op_el_width\"]]"
   ]
  },
  {
   "cell_type": "code",
   "execution_count": null,
   "id": "fc5a60f8",
   "metadata": {},
   "outputs": [],
   "source": [
    "# Downloadbar height is buggy in chromium (the automation bar is flaky), the size of the automation size is 44 max, so we can do a binary split there\n",
    "res[\"gp_download_bar_height\"] = res[\"gp_download_bar_height\"].astype(\"int\")\n",
    "res[\"gp_download_bar_height_bin\"] = res[\"gp_download_bar_height\"].apply(lambda x: True if x > 45 else False)\n",
    "res[\"gp_download_bar_height_bin\"].describe()"
   ]
  },
  {
   "cell_type": "code",
   "execution_count": null,
   "id": "a4a59714-3acb-428a-9886-9199b036bf74",
   "metadata": {},
   "outputs": [],
   "source": [
    "# Smooth securitypoicyviolation, in firefox the current URL is included \n",
    "res[\"gp_securitypolicyviolation\"] = res[\"gp_securitypolicyviolation\"].apply(lambda x: \"URL: https://172.17.0.1:44300/leaks/<redacted>/noauth/ Directive: default-src StatusCode: 0\" if \"noauth\" in x else x)"
   ]
  },
  {
   "cell_type": "code",
   "execution_count": null,
   "id": "30292c6e-b47b-49a9-be29-e997dfb8e8db",
   "metadata": {},
   "outputs": [],
   "source": [
    "ray.shutdown()"
   ]
  },
  {
   "cell_type": "code",
   "execution_count": null,
   "id": "95af7745-7c09-4624-bd24-790d57d2c507",
   "metadata": {},
   "outputs": [],
   "source": [
    "res.groupby([\"inc_method\", \"browser\"])[\"body\"].count()"
   ]
  },
  {
   "cell_type": "code",
   "execution_count": null,
   "id": "e3f3b35e-b92c-43a7-a9ec-ea103c918a64",
   "metadata": {},
   "outputs": [],
   "source": [
    "# Firefox \"error/suspend\" is buggy, merge it with error as on attacker can just only listen to the error event which is distinct from loadedmetadata in firefox\n",
    "res[\"event_set_smooth\"] = res[\"event_set\"].apply(lambda x: \"['error']\" if x == \"['error', 'suspend']\" else x)\n",
    "res.groupby(\"browser\")[\"event_set_smooth\"].value_counts()"
   ]
  },
  {
   "cell_type": "code",
   "execution_count": null,
   "id": "e21b399c-53be-4af7-970d-7b3fbb5f971f",
   "metadata": {},
   "outputs": [],
   "source": [
    "# Only use the most important StatusCodes: https://www.ionos.com/digitalguide/hosting/technical-matters/the-most-important-http-status-codes-at-a-glance/\n",
    "#res = res.loc[res[\"Status-Code\"].isin([200, 301, 302, 400, 403, 404, 500, 502, 503, 504])]\n",
    "\n",
    "# Changes from the default config\n",
    "# https://docs.h2o.ai/h2o/latest-stable/h2o-docs/data-science/drf.html\n",
    "config = {\n",
    "    \"h2o_jar\": \"/home/xsleaker/h2o-3.32.1.3/h2o.jar\",\n",
    "    \"base_dir\": \"/data/data/main/analysis/trees/group_size\",\n",
    "    \"ntrees\": 1,\n",
    "    \"max_depth\": 0, # Limit the depth of the tree (0: unlimited)\n",
    "    \"min_rows\": 1, # Minimum number of rows for a leaf node\n",
    "    \"stopping_rounds\": 0, \n",
    "    \"seed\": 29,\n",
    "    \"mtries\": -2, \n",
    "    \"sample_rate\": 1,\n",
    "    \"min_split_improvement\": 0,\n",
    "}"
   ]
  },
  {
   "cell_type": "code",
   "execution_count": null,
   "id": "795928fa",
   "metadata": {},
   "outputs": [],
   "source": [
    "# Create decision trees and info df/json, for every test_property with the given prediction properties\n",
    "# For every test_property one global one, and then one for every inclusion method and then one for every inclusion method x browser\n",
    "import warnings\n",
    "warnings.filterwarnings(\"ignore\", \"Dropping bad\") # Ignore the warning that some columns are constant (they will just be ignored)\n",
    "warnings.filterwarnings(\"ignore\", \"Sample rate\") # Ignore that we do not have a test dataset (this is what we want)\n",
    "\n",
    "create_tree_dirs(res.browser_id.unique(), config)\n",
    "\n",
    "test_properties = [\"event_set\", \"gp_window_onerror\", \"gp_window_onblur\", \"gp_window_postMessage\", \"gp_window_getComputedStyle\",\n",
    "                   \"gp_window_hasOwnProperty\", \"gp_download_bar_height_bin\", \"gp_securitypolicyviolation\",\n",
    "                   \"op_el_height\", \"op_el_width\", \"op_el_naturalHeight\", \"op_el_naturalWidth\",\n",
    "                   \"op_el_videoWidth\", \"op_el_videoHeight\", \"op_el_duration\", \"op_el_networkState\",\n",
    "                   \"op_el_readyState\", \"op_el_buffered\", \"op_el_paused\", \"op_el_seekable\",\n",
    "                   \"op_el_sheet\", \"op_el_media_error\", \"op_el_contentDocument\", \n",
    "                   \"op_frame_count\", \"op_win_window\", \"op_win_CSS2Properties\", \"op_win_origin\",\n",
    "                   \"op_win_opener\", \"op_win_history_length\", \"event_set_smooth\", \"event_list\"]\n",
    "prediction_properties = [\"Status-Code\", \"body\", \"X-Content-Type-Options\", \n",
    "                         \"X-Frame-Options\", \"Content-Type\", \"Content-Disposition\", \"Cross-Origin-Resource-Policy\",\n",
    "                         \"Cross-Origin-Opener-Policy\", \"Location\", \"browser_id\", \"inc_method\"]\n",
    "inc_methods = res.inc_method.cat.categories\n",
    "# inc_methods = [\"window.open\"]\n",
    "\n",
    "\n",
    "\n",
    "start = time.time()\n",
    "gen_ids = []\n",
    "#res_id = ray.put(res)\n",
    "for test_property in test_properties:\n",
    "    # gen_ids.append(generalize.remote(res_id, [test_property], prediction_properties, inc_methods, overwrite=True, log=True, config=config))\n",
    "    gen_ids.append(generalize(res, [test_property], prediction_properties, inc_methods, overwrite=True, log=True, config=config))\n",
    "\n",
    "\n",
    "# data = ray.get(gen_ids)\n",
    "data = gen_ids\n",
    "took = time.time() - start\n",
    "print(f\"took {took} seconds, dot to svg might still be running!\")"
   ]
  },
  {
   "cell_type": "code",
   "execution_count": null,
   "id": "2c6d6ed4-eafe-4c02-b637-70b127243b20",
   "metadata": {},
   "outputs": [],
   "source": [
    "gen_dict = {}\n",
    "for dic in data:\n",
    "    key = list(dic.keys())[0]\n",
    "    gen_dict[key] = dic[key]"
   ]
  },
  {
   "cell_type": "code",
   "execution_count": null,
   "id": "6651a3c5",
   "metadata": {},
   "outputs": [],
   "source": [
    "print(json.dumps(gen_dict, indent=4))"
   ]
  },
  {
   "cell_type": "code",
   "execution_count": null,
   "id": "c9de0719",
   "metadata": {},
   "outputs": [],
   "source": [
    "reform = {(level1_key, level2_key, level3_key): values\n",
    "          for level1_key, level2_dict in gen_dict.items()\n",
    "          for level2_key, level3_dict in level2_dict.items()\n",
    "          for level3_key, values      in level3_dict.items()}\n",
    "df = pd.DataFrame(reform).T\n",
    "df.index = df.index.set_names([\"test_property\", \"inc_method\", \"browser\"])\n",
    "#qgrid.show_grid(df.reset_index(), show_toolbar=True)  # qgrid has some problems with multiindex\n",
    "df"
   ]
  },
  {
   "cell_type": "code",
   "execution_count": null,
   "id": "05240720-0ee2-4980-b987-05ec46db6829",
   "metadata": {},
   "outputs": [],
   "source": [
    "tab = df[\"unique_count\"].unstack(\"inc_method\").reset_index()\n",
    "tab = tab.loc[tab[\"browser\"].isin([1, 2])]\n",
    "tab[\"browser\"] = tab[\"browser\"].replace({1: \"Firefox\", 2: \"Chrome\"})\n",
    "tab = tab.set_index([\"test_property\", \"browser\"])\n",
    "#display(tab)\n",
    "tab = tab.where(tab < 2, \"\\checkmark\")\n",
    "tab = tab.replace({1: \"\\times\"})\n",
    "#display(tab)\n",
    "tab = tab.drop(\"event_set_smooth\")\n",
    "tab = tab.reset_index()\n",
    "tab[\"test_property\"] = tab[\"test_property\"].str.replace(\"_\", \"-\")\n",
    "tab.columns = tab.columns.str.replace(\"_\", \"-\")\n",
    "tab = tab.set_index([\"test-property\", \"browser\"])\n",
    "\n",
    "display(tab)\n",
    "with open(\"tables/leak_tests.tex\", \"w\") as f:\n",
    "    f.write(tab.to_latex(escape=False ,header=['\\\\rotatebox{90}{' + c + '}' for c in tab.columns]))"
   ]
  },
  {
   "cell_type": "markdown",
   "id": "fdf3090e-3986-4c00-9d1f-b595cd9420d8",
   "metadata": {},
   "source": [
    "## Value counts\n",
    "\n",
    "- Investigate how many different outcomes every leak channel (test_property + inc_method per browser) has\n",
    "- How likely are the different outcomes?\n",
    "- How likely it is that two random responses belong to a different group/outcome?\n",
    "    - Just 1-max value? (Every group has different results, so not getting the max group prob is the prob of getting two different responses if one chooses two??)\n",
    "    - Problem: our responses space has nothing to do with the real distribution of responses, so this does not make a lot of sense\n",
    "    - However, it can give more insights into stable/unstable leaks and which work the same??"
   ]
  },
  {
   "cell_type": "code",
   "execution_count": null,
   "id": "575dfc14-a1ef-4e62-9e4f-67b19818706e",
   "metadata": {},
   "outputs": [],
   "source": [
    "def expand_frame(row):\n",
    "    test_property = row.iloc[0][\"test_property\"]\n",
    "    inc_method = row.iloc[0][\"inc_method\"]\n",
    "    browser = row.iloc[0][\"browser\"]\n",
    "    value_counts = pd.DataFrame(row.iloc[0][\"value_counts\"]).iloc[:-1,:]\n",
    "    t, i, b, v, c, p = [], [], [], [], [], []\n",
    "    df = pd.DataFrame(columns=[\"t\", \"i\", \"b\", \"v\", \"c\", \"p\"])\n",
    "    for _, row_v in value_counts.iterrows():\n",
    "        t.append(test_property)\n",
    "        i.append(inc_method)\n",
    "        b.append(browser)\n",
    "        v.append(row_v.iloc[0])\n",
    "        c.append(row_v.iloc[1])\n",
    "        p.append(row_v.iloc[2])\n",
    "        df.loc[len(df)] = [test_property, inc_method, browser, row_v.iloc[0], row_v.iloc[1], row_v.iloc[2]]\n",
    "    #return {\"t\": t, \"i\": i, \"b\": b, \"v\": v, \"c\": c, \"p\": p}\n",
    "    return df\n",
    "\n",
    "val_counts = df[\"value_counts\"].reset_index().groupby([\"browser\", \"test_property\", \"inc_method\"], group_keys=False).apply(expand_frame)"
   ]
  },
  {
   "cell_type": "code",
   "execution_count": null,
   "id": "b5811970-5275-4a86-9d87-0ec928720634",
   "metadata": {},
   "outputs": [],
   "source": [
    "piv = val_counts.pivot_table(index=[\"t\", \"i\", \"b\"], values=[\"c\", \"p\"], aggfunc=\"count\")\n",
    "display(piv)\n",
    "piv = piv.loc[piv[\"c\"] == 1]\n",
    "# Throw away all rows with only 1 value as they cannot work?\n",
    "# Throw away all \"all\" browsers as not really interesting (except for distinguishing browsers)\n",
    "# \n",
    "vals = val_counts.loc[~(val_counts[\"b\"] == \"all\")]\n",
    "vals = vals.set_index([\"t\", \"i\", \"b\"])\n",
    "vals = vals.loc[~(vals.index.isin(piv.index))].reset_index()\n",
    "with pd.option_context(\"max_rows\", 1000):\n",
    "    display(vals.set_index([\"b\", \"i\", \"t\"]))\n",
    "    pass\n",
    "\n",
    "piv = vals.pivot_table(index=[\"t\", \"i\", \"b\"], values=[\"c\", \"p\"], aggfunc=[\"max\", \"min\", \"count\"]).sort_values((\"max\", \"p\"))\n",
    "with pd.option_context(\"max_rows\", 1000):\n",
    "    display(piv)"
   ]
  },
  {
   "cell_type": "code",
   "execution_count": null,
   "id": "172b42ca",
   "metadata": {},
   "outputs": [],
   "source": [
    "# reform = {(level1_key, level2_key, level3_key, level4_key): values\n",
    "#          for level1_key, level2_dict in check_dict.items()\n",
    "#          for level2_key, level3_dict in level2_dict.items()\n",
    "#          for level3_key, level4_dict in level3_dict.items()\n",
    "#          for level4_key, values      in level4_dict.items()}\n",
    "# df = pd.DataFrame(reform).T\n",
    "# df.index = df.index.set_names([\"test_property\", \"inc_method\", \"browser\", \"pred_property\"])\n",
    "# qgrid.show_grid(df.reset_index(), show_toolbar=True)  # qgrid has some problems with multiindex"
   ]
  },
  {
   "cell_type": "markdown",
   "id": "beea87f1",
   "metadata": {},
   "source": [
    "- "
   ]
  },
  {
   "cell_type": "markdown",
   "id": "79789148",
   "metadata": {},
   "source": [
    "## Playground"
   ]
  },
  {
   "cell_type": "code",
   "execution_count": null,
   "id": "d3d2529b",
   "metadata": {},
   "outputs": [],
   "source": [
    "# investigate strange results?!, (browsers just behave strange and ignore all kind of headers)\n",
    "res.loc[(res[\"op_el_width\"] == \"50\") & (res[\"browser_id\"] == 1)][[\"op_el_width\", \"Content-Type\", \"url_id\", \"test_id\"]]"
   ]
  },
  {
   "cell_type": "code",
   "execution_count": null,
   "id": "75daabf1",
   "metadata": {},
   "outputs": [],
   "source": [
    "res.loc[res[\"test_id\"] == 35515][\"op_el_width\"]"
   ]
  },
  {
   "cell_type": "code",
   "execution_count": null,
   "id": "22777b35",
   "metadata": {},
   "outputs": [],
   "source": [
    "res[\"url_id\"].describe()"
   ]
  },
  {
   "cell_type": "code",
   "execution_count": null,
   "id": "eb64898b",
   "metadata": {},
   "outputs": [],
   "source": [
    "# Chromium based-browsers have some problem with about:blank, window.open?\n",
    "\n",
    "his = res.groupby([\"browser_id\", \"inc_method\"])[\"op_win_history_length\"].value_counts().to_frame().rename(columns={\"op_win_history_length\": \"count\"})\n",
    "\n",
    "# qgrid.show_grid(his, show_toolbar=True)\n",
    "his"
   ]
  },
  {
   "cell_type": "code",
   "execution_count": null,
   "id": "514debd5",
   "metadata": {},
   "outputs": [],
   "source": [
    "#res.query(\"op_win_history_length == 'error occured' and browser_id == 2 and inc_method == 'window.open'\")"
   ]
  },
  {
   "cell_type": "code",
   "execution_count": null,
   "id": "8fcc64db-fc63-4b20-8d41-8b26785bf4ce",
   "metadata": {},
   "outputs": [],
   "source": []
  }
 ],
 "metadata": {
  "language_info": {
   "name": "python",
   "pygments_lexer": "ipython3"
  }
 },
 "nbformat": 4,
 "nbformat_minor": 5
}
