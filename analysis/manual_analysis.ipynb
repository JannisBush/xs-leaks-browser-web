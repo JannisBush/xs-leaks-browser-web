{
 "cells": [
  {
   "cell_type": "code",
   "execution_count": null,
   "id": "40dd62a1-271f-4a18-9e8a-f993fb78baad",
   "metadata": {},
   "outputs": [],
   "source": [
    "%load_ext autoreload\n",
    "%autoreload 2"
   ]
  },
  {
   "cell_type": "code",
   "execution_count": null,
   "id": "2241e042-5bc7-4589-8196-3637213273d1",
   "metadata": {},
   "outputs": [],
   "source": [
    "from helper_dyn import get_pipeline_overview, get_distances, get_cookie_stats, get_only_both\n",
    "\n",
    "from dil_postprocess import get_dyn_results, get_working_urls_channels\n",
    "from dil_preprocess import get_url_data, basic_pruning\n",
    "from dil_predict import init, predict_trees, reduce_leaky_endpoints\n",
    "\n",
    "\n",
    "import pandas as pd\n",
    "import json\n",
    "import redis \n",
    "r = redis.Redis()"
   ]
  },
  {
   "cell_type": "code",
   "execution_count": null,
   "id": "ad77d249-8f4a-4286-a7bf-6c15d095e14f",
   "metadata": {},
   "outputs": [],
   "source": [
    "# Load trees in \n",
    "models = init()"
   ]
  },
  {
   "cell_type": "code",
   "execution_count": null,
   "id": "1600d850-43fb-43da-be37-9c69551807ec",
   "metadata": {},
   "outputs": [],
   "source": [
    "# Get info about tree_preprocess from redis\n",
    "display(json.loads(r.get(\"known_unhandled_bodies\")))\n",
    "display(json.loads(r.get(\"untreated_cts\")))"
   ]
  },
  {
   "cell_type": "markdown",
   "id": "e4d2a725-507c-421f-8b0c-7ff0c925a2c3",
   "metadata": {},
   "source": [
    "## (Manual) analysis\n",
    "\n",
    "- Reasons for (almost) no URLs\n",
    "    - bot detection (bisnis.com) (Crawler uses puppeteer (now with stealth plugin), cookiehunter uses selenium with xfvb)\n",
    "    - direct redirection: (ziprecruiter.com) (Cookiehunter and crawler use a different site name, thus the crawler does not crawl)\n",
    "    - TLS errors (geekbuying.com, takungpao.com) (Cookiehunter ignores cert errors, the crawler does not (as a normal? user would also not ignore them)\n",
    "    - unclear (appbrain.com, ...) (maybe timeout due to blocked or rate-limited, ...)\n",
    "- Reasons for (almost) no URLs after pruning (if many URLs were found)\n",
    "    - login area is separate from logout area and was not found (builderall.com)\n",
    "    - timeout on homepage means only homepage got crawled, and the hompage is static (deliverr.com)\n",
    "    - no differences for logged in users/no real logged in content or not much (ontvtime.ru, adtarget.com.tr, motorplus-online.com), ...\n",
    "    - cookie session sharing was not successful, thus both accounts are in the \"same\" state: (?)\n",
    "    - investigate: other reasons\n",
    "- Reasons for (big) differences between chrome/firefox: check hinative.com, moneyforward.com, flipboard.com, dn.se, etc!\n",
    "    - Why does it only work in firefox (samesite default?), why does it only work in chrome? (no idea)\n",
    "        - log-in/cookie-session-sharing did not work in one browser only\n",
    "           - probably what happend on hinative.com firefox\n",
    "           - probably what happend on flipboard.com chrome\n",
    "        - samesite not set, different defaults in browsers\n",
    "           - if only window.open works in chrome, in firefox also other leak type works (e.g., moneyforward.com), probably the case\n",
    "           - only because the session cookies are lax this does not mean nothing can leak, other cookies can also leak user info (what settings a user has)\n",
    "        - FP in one browser only (by chance):\n",
    "            - postMessage FPs? only one one site for some reason: firefox received the same pMs often for the states, chrome did not (e.g., dn.se); In general a problem? Just checking 2 times might not be enough for pMs..., exclude ones with two low jaro distance? or with both values occuring for both value_cookies, value_no_cookies on different URLs\n",
    "        - Differences in methods/parsing of browsers (e.g., in tarafdari.com):\n",
    "            - CORB makes some leaks work/not work in Chrome\n",
    "            - media_error only works in chrome\n",
    "            - nosniff is different in both browsers (e.g., firefox fires error event, chrome load event on nosniff responses to script tags), ...\n",
    "    - ~~Why does image never works? (in chrome not tested as it is the same as embed-img?), but in firefox?~~ Works but only very rarely\n",
    "    -\n",
    "- State-Differences\n",
    "    - we have logged-in account (usually nothing done), and logged-out account (at the beginning even unvisited)\n",
    "    - diff does not have to be logged-in/logged-out\n",
    "    - can also be cookie policy consented/cookie policy not consented\n",
    "    - specific user/not specific user\n",
    "    - (user with add blocker, user without ad blocker)\n",
    "    - user with \"urgent\" task, user without\n",
    "        - e.g., hinative/general if frame_count of value_cookies is 0 and value_no_cookies is N: user with urgent task is redirected to another page (e.g., some survey necessary after registration/login), another reason for this can be that logged-in users are ad-free\n",
    "- ~~Redo groupon.com to betterteam.com: problem db-server had an error/db was incorrect~~\n",
    "- ~~Redo avvo.com to extendoffice.com: problem leaky-service was down :( -> URL dict version contained line break -> attack_page.html had syntax error -> failed~~\n",
    "    - ~~(the some successful ones, e.g., of stickermule.com, must have had empty/timedout responses for url_dict_version)~~"
   ]
  },
  {
   "cell_type": "code",
   "execution_count": null,
   "id": "16d953d1-cc1d-4c85-95da-b8af7d934c96",
   "metadata": {},
   "outputs": [],
   "source": [
    "dat = get_pipeline_overview()"
   ]
  },
  {
   "cell_type": "code",
   "execution_count": null,
   "id": "c44c7f89-0e63-42ad-b8a5-38d94fde7141",
   "metadata": {},
   "outputs": [],
   "source": [
    "with pd.option_context('display.max_columns', None):\n",
    "    with pd.option_context(\"max_rows\", None):\n",
    "        #display(c_res.loc[c_res[\"crawl_end\"] != \"\"].sort_values([\"num_basic_pruning\", \"num_urls\"]))\n",
    "        display(dat.loc[dat[\"crawl_end\"] != \"\"].sort_values(\"cookie_end\"))"
   ]
  },
  {
   "cell_type": "code",
   "execution_count": null,
   "id": "e2ffcb4c-4d4e-42c1-a5b1-d8b5669538f6",
   "metadata": {},
   "outputs": [],
   "source": [
    "site = \"vidio.com\"  # tarafdari.com, humblebundle.com, duplichecker.com, idntimes.com, imgflip.com, yellowpages.com, cafepress.com, ahrefs.com, deliverr.com, logrocket.com, logrocket.com-unpruned\n",
    "\n",
    "for site in [site, f\"{site}-unpruned\"]:\n",
    "    info = dat.loc[dat[\"site\"] == site]\n",
    "    df = get_dyn_results(site)\n",
    "    if not \"-unpruned\" in site:\n",
    "        url_dat = get_url_data(site)\n",
    "\n",
    "    working_df, _, _ = get_working_urls_channels(df, log=False)\n",
    "    display(working_df)\n",
    "    display(working_df[[\"method\", \"inc_method\"]].value_counts())"
   ]
  },
  {
   "cell_type": "code",
   "execution_count": null,
   "id": "150301ee-ed1b-44b3-a8fc-8581eb8525c5",
   "metadata": {},
   "outputs": [],
   "source": [
    "url_dat.loc[url_dat[\"req_url\"] == \"https://www.vidio.com/purchased/status?content_id=3337\"]"
   ]
  },
  {
   "cell_type": "code",
   "execution_count": null,
   "id": "6d77a490-d21e-44f5-bf7a-1da6d6da043c",
   "metadata": {},
   "outputs": [],
   "source": [
    "info"
   ]
  },
  {
   "cell_type": "code",
   "execution_count": null,
   "id": "eb30af03-3e63-4c11-986c-abf7e6807240",
   "metadata": {},
   "outputs": [],
   "source": [
    "working_df.head()"
   ]
  },
  {
   "cell_type": "code",
   "execution_count": null,
   "id": "4eba5c65-aa76-46dd-a66c-4e919cd4b565",
   "metadata": {},
   "outputs": [],
   "source": [
    "def get_extended_info(row, info, df):\n",
    "    # Add for every entry if the same leak_channel works in the other browser\n",
    "    # If the same leak_channel was tested in the other browser (only check inclusion methods) (if not tree pruning is responsible!)\n",
    "    # If the same leak channel was re-tested in the other browser (only check inclusion methods) (if not SameSite and co, could be responsible)\n",
    "    # \n",
    "    test_id = row[\"test_id\"]\n",
    "    browser = row[\"browser\"]\n",
    "    method = row[\"method\"]\n",
    "    inc_method = row[\"inc_method\"]\n",
    "    apg_url = row[\"apg_url\"].split(f\"&browser={browser}\")[0]\n",
    "    other_browser = \"firefox\" if browser == \"chrome\" else \"chrome\"\n",
    "    check_work = df.loc[(df[\"browser\"] == other_browser) & (df[\"method\"] == method) & (df[\"inc_method\"] == inc_method) & (df[\"test_id\"] == test_id)]\n",
    "    if apg_url in info[\"dyn_conf_urls\"].values[0][other_browser]:\n",
    "        check_test = True\n",
    "    else:\n",
    "        check_test = False\n",
    "    if apg_url in info[\"dyn_conf_retest_urls\"].values[0][other_browser]:\n",
    "        check_retest = True\n",
    "    else:\n",
    "        check_retest = False\n",
    "    res = {}\n",
    "    res[\"leak_channel_works_other_browser\"] = len(check_work)\n",
    "    res[\"leak_channel_tested_other_browser\"] = check_test\n",
    "    res[\"leak_channel_retested_other_browser\"] = check_retest\n",
    "    return len(check_work), check_test, check_retest\n",
    "    \n",
    "working_df[[\"leak_channels_works_other_browser\", \"leak_channel_tested_other_browser\", \"leak_channel_retested_other_browser\"]] = working_df.apply(get_extended_info, info=info, df=working_df, axis=1, result_type=\"expand\")"
   ]
  },
  {
   "cell_type": "code",
   "execution_count": null,
   "id": "16e50980-27ac-405b-b480-8eccbc79c9b2",
   "metadata": {},
   "outputs": [],
   "source": [
    "working_df[[\"leak_channels_works_other_browser\", \"leak_channel_tested_other_browser\", \"leak_channel_retested_other_browser\"]].value_counts()"
   ]
  },
  {
   "cell_type": "code",
   "execution_count": null,
   "id": "6122716a-0d35-4042-bf2e-8eb963a5d787",
   "metadata": {},
   "outputs": [],
   "source": [
    "# Tarafdari, all that worked in firefox are not even tested in chrome\n",
    "# Working channels are script-event_set and -window.onerror \n",
    "# They do not work in chrome (partially) due to CORB\n",
    "# Partially due to other script handling\n",
    "working_urls = working_df[\"url\"].unique().tolist()\n",
    "working_org_data = url_dat.loc[url_dat[\"req_url\"].isin(working_urls)].sort_values([\"req_url\", \"cookies\"])\n",
    "display(working_org_data.head())\n",
    "\n",
    "# Check headers/tree results\n",
    "# display(working_org_data[\"resp_headers\"].values.tolist()[:4])\n",
    "af, d, poss, results = basic_pruning(working_org_data)\n",
    "display(af.sort_values([\"URL\", \"cookies\"]))\n",
    "leaky_endpoints = predict_trees(af, log=True)\n",
    "reduce_leaky_endpoints(leaky_endpoints)"
   ]
  },
  {
   "cell_type": "markdown",
   "id": "ed21bd01-ef98-417c-a775-70b4724fa77e",
   "metadata": {},
   "source": [
    "- Get info on whether the leak_channel was even tested/retested\n",
    "    - for entries in working_df get if it also works in the other browser + if the leak channel was even tested/re-tested in the other browser\n",
    "    - (for the cases were only one browser worked; i.e., how often did tree-pruning say the case does only work in one browser?)\n",
    "    - Also get the raw responses from the crawler! to see if it makes sense\n",
    "    -(Problem, we have no gurantee that the same response was returned that we observed with the crawler!)"
   ]
  },
  {
   "cell_type": "code",
   "execution_count": null,
   "id": "00dfb60d-c6dd-435d-9982-843996b6e91a",
   "metadata": {},
   "outputs": [],
   "source": [
    "dyn_conf_urls = info[\"dyn_conf_urls\"].values[0]\n",
    "get_only_both(dyn_conf_urls)\n",
    "dyn_conf_retest_urls = info[\"dyn_conf_retest_urls\"].values[0]\n",
    "get_only_both(dyn_conf_retest_urls)\n",
    "confirmed_urls = info[\"confirmed_leak_urls\"].values[0]\n",
    "get_only_both(confirmed_urls)"
   ]
  },
  {
   "cell_type": "code",
   "execution_count": null,
   "id": "ce727880-3e68-4871-9397-d0757dd5f4b4",
   "metadata": {},
   "outputs": [],
   "source": [
    "with pd.option_context(\"max_rows\", None):\n",
    "    with pd.option_context(\"max_columns\", None):\n",
    "        display(info)\n",
    "        display(working_df.loc[working_df[\"browser_id\"] == 1])\n",
    "        display(get_cookie_stats(info[[\"cookies\"]]))\n",
    "        # display(working_df[[\"apg_url\", \"browser\", \"value_cookies\", \"value_no_cookies\"]])"
   ]
  },
  {
   "cell_type": "code",
   "execution_count": null,
   "id": "2d5f7c35-5601-4edd-8e97-5e5eb2fd6a8e",
   "metadata": {},
   "outputs": [],
   "source": [
    "browser_id = 2\n",
    "brow = df.loc[df[\"browser_id\"] == browser_id]\n",
    "display(brow.sort_values(\"test_id\"))\n",
    "for id_val in [\"events_id\", \"global_properties_id\", \"object_properties_id\", \"window_properties_id\"]:\n",
    "    display(df.groupby([\"browser_id\", \"cookies\", \"retest_num\"])[id_val].value_counts().to_frame())"
   ]
  },
  {
   "cell_type": "code",
   "execution_count": null,
   "id": "0b345997-49f0-4290-a5a8-ea3db6ee94ba",
   "metadata": {},
   "outputs": [],
   "source": [
    "# Display differences in postMessages that are very similar\n",
    "# get_distances(working_df)"
   ]
  },
  {
   "cell_type": "code",
   "execution_count": null,
   "id": "1cda00df-40c7-4335-b627-1414e4a6bb64",
   "metadata": {},
   "outputs": [],
   "source": []
  }
 ],
 "metadata": {
  "language_info": {
   "name": "python",
   "pygments_lexer": "ipython3"
  }
 },
 "nbformat": 4,
 "nbformat_minor": 5
}
