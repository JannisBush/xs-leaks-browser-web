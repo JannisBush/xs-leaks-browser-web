{
 "cells": [
  {
   "cell_type": "code",
   "execution_count": null,
   "id": "691a05f2-5fb2-429b-872e-b9b4af3d8e4c",
   "metadata": {},
   "outputs": [],
   "source": [
    "%load_ext autoreload\n",
    "%autoreload 2"
   ]
  },
  {
   "cell_type": "code",
   "execution_count": null,
   "id": "cbc6a3f6-db31-4719-a3d1-015f8d23b4d9",
   "metadata": {},
   "outputs": [],
   "source": [
    "from dil_preprocess import fit_data\n",
    "from dil_predict import init, predict_trees, reduce_leaky_endpoints\n",
    "import pandas as pd\n",
    "from http import HTTPStatus"
   ]
  },
  {
   "cell_type": "code",
   "execution_count": null,
   "id": "40946187-fd12-4fee-844c-d2941d8d795a",
   "metadata": {},
   "outputs": [],
   "source": [
    "models = init(methods=\"all\")"
   ]
  },
  {
   "cell_type": "code",
   "execution_count": null,
   "id": "60e524f5-06c7-499b-95fd-e15899e47069",
   "metadata": {},
   "outputs": [],
   "source": [
    "def test_single_key():\n",
    "    \"\"\"Test if single headers/status-codes can be distinguished.\n",
    "       Compare an empty response, with a response with only one header/status-code set and test every tree.\"\"\"\n",
    "    acc = {}\n",
    "    # Compare headers on most normal responses?\n",
    "    for header in [{\"cross-origin-resource-policy\": \"same-origin\"}, {\"content-disposition\": \"attachment\"}, {\"content-type\": \"image/png\"}, {\"cross-origin-opener-policy\": \"same-orgin\"}, {\"x-content-type-options\": \"nosniff\"}, {\"x-frame-options\": \"deny\"}]:\n",
    "        # Compare headers for most common responses\n",
    "        for code in [\"200\", \"302\", \"404\"]:\n",
    "            af = pd.DataFrame([{\"req_url\": \"a\", \"resp_code\": code, \"cookies\": True, \"resp_headers\": header, \"resp_body_info\": \":,\", \"resp_body_hash\": \"\"},\n",
    "                               {\"req_url\": \"a\", \"resp_code\": code, \"cookies\": False, \"resp_headers\": {}, \"resp_body_info\": \":,\", \"resp_body_hash\": \"\"}])\n",
    "            acc = test_af(af, header, acc)\n",
    "    \n",
    "    for code in [str(code.value) for code in HTTPStatus] + ['999']:\n",
    "        # Compare all 2XX codes with 404 and all other codes with 200\n",
    "        compare_code = \"200\" if not code.startswith(\"2\") else \"404\"\n",
    "        af = pd.DataFrame([{\"req_url\": \"a\", \"resp_code\": code, \"cookies\": True, \"resp_headers\": {}, \"resp_body_info\": \":,\", \"resp_body_hash\": \"\"},\n",
    "                           {\"req_url\": \"a\", \"resp_code\": compare_code, \"cookies\": False, \"resp_headers\": {}, \"resp_body_info\": \":,\", \"resp_body_hash\": \"\"}])\n",
    "        acc = test_af(af, code, acc)\n",
    "    return acc\n",
    "        \n",
    "def test_af(af, diff, acc):\n",
    "    \"\"\"Test two responses if a method can distinguish them.\n",
    "       af: pandas Dataframe of size 2\n",
    "       diff: the difference between the two rows in the af\n",
    "       acc: acculumulator dict to save the results in\"\"\"\n",
    "    # display(af)\n",
    "    af = af.apply(fit_data, axis=1).to_dict()    \n",
    "    af = pd.DataFrame.from_dict(af, orient=\"index\")\n",
    "    display(af)\n",
    "    leaky_endpoints = predict_trees(af, log=True)\n",
    "    acc[str(diff)] = leaky_endpoints\n",
    "    for method in leaky_endpoints:\n",
    "        display(leaky_endpoints[method])\n",
    "        pass\n",
    "    return acc"
   ]
  },
  {
   "cell_type": "code",
   "execution_count": null,
   "id": "91becc9b-61c6-4bf4-9f67-2d3df1574ae1",
   "metadata": {},
   "outputs": [],
   "source": [
    "acc = test_single_key()"
   ]
  },
  {
   "cell_type": "code",
   "execution_count": null,
   "id": "08ec00ff-e86a-4db2-835a-ef048322325e",
   "metadata": {},
   "outputs": [],
   "source": [
    "# Open several new bug reports based on these results?\n",
    "# + test additional common combinations\n",
    "for key in acc:\n",
    "    print()\n",
    "    print(key)\n",
    "    print([method.split(\"/mojo/\")[1] for method in acc[key].keys()])"
   ]
  },
  {
   "cell_type": "markdown",
   "id": "69460f9e-7616-49a1-b700-61157f17b38f",
   "metadata": {},
   "source": [
    "## Distinguish two responses application"
   ]
  },
  {
   "cell_type": "code",
   "execution_count": null,
   "id": "5dcdc54a-f2e5-439e-b791-9613760f755f",
   "metadata": {},
   "outputs": [],
   "source": [
    "import ipywidgets as widgets\n",
    "from IPython.display import display, Markdown\n",
    "import functools"
   ]
  },
  {
   "cell_type": "code",
   "execution_count": null,
   "id": "29e34ef5-ca99-48bf-82bb-a77bdec9ac36",
   "metadata": {},
   "outputs": [],
   "source": [
    "from database_connector import connect, postgresql_to_dataframe\n",
    "\n",
    "# Connect to the database\n",
    "conn = connect()\n",
    "print(conn)\n",
    "column_names = [\"id\", \"url_id\", \"url_dict_version\", \"Status-Code\", \"body\", \"X-Content-Type-Options\", \n",
    "                \"X-Frame-Options\", \"Content-Type\", \"Content-Disposition\", \"Cross-Origin-Resource-Policy\",\n",
    "                \"Cross-Origin-Opener-Policy\", \"Location\",\n",
    "                ]\n",
    "# Execute the \"SELECT *\" query\n",
    "uf = postgresql_to_dataframe(conn, \"select * from leaks_urldict\", column_names)\n",
    "uf[\"url_id\"] = uf[\"url_id\"].astype(\"Int64\")\n",
    "conn.close()"
   ]
  },
  {
   "cell_type": "code",
   "execution_count": null,
   "id": "a16e017d-81de-41d7-be66-da7fa0aed8be",
   "metadata": {},
   "outputs": [],
   "source": [
    "res = {}\n",
    "for col in uf.columns:\n",
    "    uniques = uf[col].unique()\n",
    "    if len(uniques) < 100:\n",
    "        print(col)\n",
    "        print(list(uniques))\n",
    "        res[col] = list(uniques)\n",
    "        "
   ]
  },
  {
   "cell_type": "code",
   "execution_count": null,
   "id": "9b07a5a6-aeac-4e42-b564-7e2a516c332c",
   "metadata": {},
   "outputs": [],
   "source": [
    "codes = [100, 101, 102, 103, 200, 201, 202, 203, 204, 205, 206, 207, 208, 226, 300, 301, 302, 303, 304, 305, 307, 308, 400, 401, 402, 403, 404, 405, 406, 407, 408, 409, 410, 411, 412, 413, 414, 415, 416, 417, 418, 421, 422, 423, 424, 425, 426, 428, 429, 431, 451, 500, 501, 502, 503, 504, 505, 506, 507, 508, 510, 511, 999]\n",
    "bodies = ['ecocnt_html=num_frames=1,input_id=test1', 'ecocnt_html=num_frames=2', 'ecocnt_html=post_message=mes1', 'ecocnt_html=meta_refresh=0;http://172.17.0.1:8000', 'ecocnt_css=h1 {color: blue}', 'ecocnt_js=.,,.', 'ecocnt_js=var a=5;', 'ecocnt_img=width=50,height=50,type=png', 'ecocnt_vid=width=100,height=100,duration=2', 'ecocnt_audio=duration=1', 'ecocnt_pdf=a=a', 'empty']\n",
    "xcto_ops = ['nosniff', 'empty']\n",
    "xfo_ops = ['deny', 'empty']\n",
    "ct_ops = ['text/html', 'text/css', 'application/javascript', 'video/mp4', 'audio/wav', 'image/png', 'application/pdf', 'empty']\n",
    "cd_ops = ['attachment', 'empty']\n",
    "coop_ops = ['same-origin', 'empty']\n",
    "corp_ops = ['same-origin', 'empty']\n",
    "loc_ops = ['http://172.17.0.1:8000', 'empty']"
   ]
  },
  {
   "cell_type": "code",
   "execution_count": null,
   "id": "fb60fe23-6454-4caf-94d6-c9815bea59d3",
   "metadata": {},
   "outputs": [],
   "source": [
    "browser_id, channel = \"../analysis/trees/tenmin/mojo/1/event_set::embed-img.mojo\".split(\".mojo\")[0].split(\"/\")[-2:]"
   ]
  },
  {
   "cell_type": "code",
   "execution_count": null,
   "id": "9e97137b-b81b-44bf-8a47-8207eef19ef9",
   "metadata": {},
   "outputs": [],
   "source": [
    "# Change font size of output\n",
    "display(Markdown(\"\"\"<style>\n",
    "td {\n",
    "  font-size: 15px\n",
    "}\n",
    "th {\n",
    "  font-size: 15px\n",
    "}\n",
    "</style>\\n|Table|\\n|--|\\n|T|\"\"\"))"
   ]
  },
  {
   "cell_type": "code",
   "execution_count": null,
   "id": "36e66014-923c-480c-aac0-fbdff64deb58",
   "metadata": {},
   "outputs": [],
   "source": [
    "output = widgets.Output(width=\"60%\")\n",
    "\n",
    "@output.capture()\n",
    "def btn_eventhandler(obj, resp_dict):\n",
    "    output.clear_output()\n",
    "    r1 = resp_dict[\"one\"]\n",
    "    r2 = resp_dict[\"two\"]\n",
    "    responses = []\n",
    "    for r in [r1, r2]:\n",
    "        responses.append({\"URL\": \"\", \"Status-Code\": r[\"code\"].value, \"body\": r[\"body\"].value, \"Content-Type\": r[\"ct\"].value, \"X-Content-Type-Options\": r[\"xcto\"].value, \n",
    "                          \"X-Frame-Options\": r[\"xfo\"].value, \"Content-Disposition\": r[\"cd\"].value, \"Location\": r[\"loc\"].value, \"Cross-Origin-Opener-Policy\": r[\"coop\"].value,\n",
    "                          \"Cross-Origin-Resource-Policy\": r[\"corp\"].value, \"cookies\": \"\"})\n",
    "    if responses[0] == responses[1]:\n",
    "        display(f\"Responses are the same, please change at least one attribute!\")\n",
    "    else:\n",
    "        af = pd.DataFrame(responses)\n",
    "        leaky_endpoints = predict_trees(af, log=False)\n",
    "        working_channels = len(leaky_endpoints)\n",
    "        #working_string = f\"**{working_channels} leak channels can distinguish the two responses!**<br>\"\n",
    "        working_string = \"\"\"**Results:**\\n\\n|Browser|Leak channel|Value 1|Value 2|\\n|:-|:-|:-|:-|\\n\"\"\"\n",
    "        for method in leaky_endpoints:\n",
    "            browser_id, channel = method.split(\".mojo\")[0].split(\"/\")[-2:]\n",
    "            browser = \"Firefox 88.0\" if browser_id == \"1\" else \"Chrome 90.0\"\n",
    "            working_string += f\"|{browser}|{channel}|{leaky_endpoints[method].iloc[0, -1]}|{leaky_endpoints[method].iloc[1, -1]}|\\n\"\n",
    "            #working_string += f\"**{browser}: {channel}, value_r1: {leaky_endpoints[method].iloc[0, -1]}, value_r2: {leaky_endpoints[method].iloc[1, -1]}**<br>\"\n",
    "        display(Markdown(working_string))\n",
    "\n",
    "\n",
    "resp_dict = {}\n",
    "table_style = {'description_width': ''}\n",
    "table_layout = {'width':'auto'}\n",
    "\n",
    "\n",
    "def create_header():\n",
    "    resp = widgets.Button(description=\"\", disabled=False, font_weight='bold', button_style=\"\", tooltip=\"\", icon=\"\", layout=table_layout, style=table_style, grid_area=\"header1\")\n",
    "    code = widgets.Button(description=\"Status-Code\", font_weight='bold', disabled=False, button_style=\"\", tooltip=\"\", icon=\"\", layout=table_layout, grid_area=\"header1\")\n",
    "    body = widgets.Button(description=\"Body-Content\", font_weight='bold', disabled=False, button_style=\"\", tooltip=\"\", icon=\"\", layout=table_layout, grid_area=\"header1\")    \n",
    "    ct = widgets.Button(description=\"Content-Type\", font_weight='bold', disabled=False, button_style=\"\", tooltip=\"\", icon=\"\", layout=table_layout, grid_area=\"header1\")\n",
    "    xcto = widgets.Button(description=\"X-Content-Type-Options\", font_weight='bold', disabled=False, button_style=\"\", tooltip=\"\", icon=\"\", layout=table_layout, grid_area=\"header1\")\n",
    "    xfo = widgets.Button(description=\"X-Frame-Options\", font_weight='bold', disabled=False, button_style=\"\", tooltip=\"\", icon=\"\", layout=table_layout, grid_area=\"header1\")\n",
    "    cd = widgets.Button(description=\"Content-Disposition\", font_weight='bold', disabled=False, button_style=\"\", tooltip=\"\", icon=\"\", layout=table_layout, grid_area=\"header1\")\n",
    "    loc = widgets.Button(description=\"Location\", disabled=False, font_weight='bold', button_style=\"\", tooltip=\"\", icon=\"\", layout=table_layout, grid_area=\"header1\")\n",
    "    coop = widgets.Button(description=\"Cross-Origin-Opener-Policy\", font_weight='bold', disabled=False, button_style=\"\", tooltip=\"\", icon=\"\", layout=table_layout, grid_area=\"header1\")\n",
    "    corp = widgets.Button(description=\"Cross-Origin-Resource-Policy\", font_weight='bold', disabled=False, button_style=\"\", tooltip=\"\", icon=\"\", layout=table_layout, grid_area=\"header1\")\n",
    "\n",
    "    return [resp, code, body, ct, xcto, xfo, cd, loc, coop, corp]\n",
    "\n",
    "def create_responses(title):    \n",
    "    resp_title = widgets.Button(description=title, font_weight='bold', disabled=False, button_style=\"\", tooltip=\"\", icon=\"\", layout=table_layout, style=table_style, grid_area=title)\n",
    "    code = widgets.Dropdown(options=codes, value=200, layout=table_layout, style=table_style, grid_area=title)\n",
    "    body = widgets.Dropdown(options=bodies, value=\"empty\", layout=table_layout, style=table_style, grid_area=title)\n",
    "    ct = widgets.Dropdown(options=ct_ops, value=\"empty\", layout=table_layout, style=table_style, grid_area=title)\n",
    "    xcto = widgets.Dropdown(options=xcto_ops, value=\"empty\", layout=table_layout, style=table_style, grid_area=title)\n",
    "    xfo = widgets.Dropdown(options=xfo_ops, value=\"empty\", layout=table_layout, style=table_style, grid_area=title)\n",
    "    cd = widgets.Dropdown(options=cd_ops, value=\"empty\", layout=table_layout, style=table_style, grid_area=title)\n",
    "    loc = widgets.Dropdown(options=loc_ops, value=\"empty\", layout=table_layout, style=table_style, grid_area=title)\n",
    "    coop = widgets.Dropdown(options=coop_ops, value=\"empty\", layout=table_layout, style=table_style, grid_area=title)\n",
    "    corp = widgets.Dropdown(options=corp_ops, value=\"empty\", layout=table_layout, style=table_style, grid_area=title)\n",
    "    \n",
    "    resp_list = [resp_title, code, body, ct, xcto, xfo, cd, loc, coop, corp]\n",
    "    resp = {\"code\": code, \"body\": body, \"ct\": ct, \"xcto\": xcto, \"xfo\": xfo, \"cd\": cd, \"loc\": loc, \"coop\": coop, \"corp\": corp}\n",
    "    return resp, resp_list\n",
    "\n",
    "header_list = create_header()\n",
    "resp_dict[\"one\"], resp1_list = create_responses(\"Response1\")\n",
    "resp_dict[\"two\"], resp2_list = create_responses(\"Response2\")\n",
    "horizontal = '''\n",
    "            \"header header header header header header header header header header\"\n",
    "            \"Response1 Response1 Response1 Response1 Response1 Response1 Response1 Response1 Response1 Response1\"\n",
    "            \"Response2 Response2 Response2 Response2 Response2 Response2 Response2 Response2 Response2 Response2\"\n",
    "'''\n",
    "vertical = '''\n",
    "            \"header1 Response1 Response2\"\n",
    "            \"header1 Response1 Response2\"\n",
    "            \"header1 Response1 Response2\"\n",
    "            \"header1 Response1 Response2\"\n",
    "            \"header1 Response1 Response2\"\n",
    "            \"header1 Response1 Response2\"\n",
    "            \"header1 Response1 Response2\"\n",
    "            \"header1 Response1 Response2\"\n",
    "            \"header1 Response1 Response2\"\n",
    "            \"header1 Response1 Response2\"\n",
    "\n",
    "'''\n",
    "grid = header_list + resp1_list + resp2_list\n",
    "grid = zip(header_list, resp1_list, resp2_list)\n",
    "grid = [y for x in grid for y in x]\n",
    "#conf = widgets.GridBox(grid, layout=widgets.Layout(overflow_y=\"auto\", grid_template_rows=\"auto auto auto auto auto auto auto auto auto auto\", grid_template_columns=f\"auto auto auto\"),\n",
    "#                      grid_template_areas=vertical)\n",
    "conf = widgets.GridBox(grid, layout=widgets.Layout(width=\"60%\", grid_template_rows=\"auto auto auto auto auto auto auto auto auto auto\", grid_template_columns=f\"50% 25% 25%\"),\n",
    "                      grid_template_areas=vertical)\n",
    "display(conf)\n",
    "btn = widgets.Button(description='Distinguish!')\n",
    "btn.on_click(functools.partial(btn_eventhandler, resp_dict=resp_dict))\n",
    "display(btn)\n",
    "display(output)"
   ]
  },
  {
   "cell_type": "code",
   "execution_count": null,
   "id": "b3824cd7-7c90-4dbf-9422-7c712293cba2",
   "metadata": {},
   "outputs": [],
   "source": [
    "af = pd.DataFrame([{\"req_url\": \"a\", \"resp_code\": \"\", \"cookies\": True, \"resp_headers\": {\"cross-origin-resource-policy\": \"same-origin\"}, \"resp_body_info\": \":,\", \"resp_body_hash\": \"\"}, {\"req_url\": \"a\", \"resp_code\": \"\", \"cookies\": False, \"resp_headers\": {}, \"resp_body_info\": \":,\", \"resp_body_hash\": \"\"}])\n",
    "display(af)\n",
    "af = af.apply(fit_data, axis=1).to_dict()    \n",
    "af = pd.DataFrame.from_dict(af, orient=\"index\")\n",
    "af"
   ]
  },
  {
   "cell_type": "code",
   "execution_count": null,
   "id": "25ab8362-1a10-4a30-a5d1-baad8bc5e9cb",
   "metadata": {},
   "outputs": [],
   "source": [
    "leaky_endpoints = predict_trees(af, log=True)"
   ]
  },
  {
   "cell_type": "code",
   "execution_count": null,
   "id": "58f017df-75f2-47cc-b7ea-2d975ff82a85",
   "metadata": {},
   "outputs": [],
   "source": [
    "for method in leaky_endpoints:\n",
    "    display(leaky_endpoints[method])"
   ]
  },
  {
   "cell_type": "code",
   "execution_count": null,
   "id": "4b520792-2a21-4449-9ccd-0bfde7667095",
   "metadata": {},
   "outputs": [],
   "source": []
  }
 ],
 "metadata": {
  "language_info": {
   "name": "python",
   "pygments_lexer": "ipython3"
  }
 },
 "nbformat": 4,
 "nbformat_minor": 5
}
