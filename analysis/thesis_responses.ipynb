{
 "cells": [
  {
   "cell_type": "markdown",
   "id": "9c188ec4-a079-48d1-9dbf-829ed344c161",
   "metadata": {},
   "source": [
    "# Results for Q2 responses in the thesis\n",
    "\n",
    "- Response statistics (headers, status-codes, etc)\n",
    "- Response pairs and SD-URLs\n",
    "- ..."
   ]
  },
  {
   "cell_type": "code",
   "execution_count": null,
   "id": "06a4d14f-ac13-4acf-a7cd-f4da7792b9c0",
   "metadata": {},
   "outputs": [],
   "source": [
    "%load_ext autoreload\n",
    "%autoreload 2\n",
    "%matplotlib inline"
   ]
  },
  {
   "cell_type": "code",
   "execution_count": null,
   "id": "879b2a3c-e9fa-47dd-a6a6-18674d0e2ee9",
   "metadata": {},
   "outputs": [],
   "source": [
    "import json\n",
    "import requests\n",
    "from requests.exceptions import SSLError, ConnectTimeout, ConnectionError\n",
    "from publicsuffix2 import PublicSuffixList\n",
    "from urllib.parse import urlparse\n",
    "\n",
    "import pandas as pd\n",
    "import numpy as np\n",
    "\n",
    "from helper_dyn import (get_pipeline_overview, get_cookie_stats, get_pipeline_stats, show_only_first, get_leak_data, display_timing,\n",
    "                        process_responses, display_response_summary, display_changed,\n",
    "                        parse_method_url, get_query, info_grouping, row_sym, get_conf_dfs,\n",
    "                        get_info_frames, get_only_both, parse_apg_url, url_list_to_tuples,\n",
    "                        get_predictions_retroactive, save_div, get_basic_pruning_reduction, \n",
    "                        get_combs_after_basic_pruning, get_stats, get_acc)\n",
    "from dil_preprocess import get_url_data, basic_pruning"
   ]
  },
  {
   "cell_type": "markdown",
   "id": "646a8dab-3c2c-4bfa-aee2-ad9f83832570",
   "metadata": {},
   "source": [
    "## Security headers and responses"
   ]
  },
  {
   "cell_type": "code",
   "execution_count": null,
   "id": "48e5c3d5-a1b8-476b-94fa-05431c0aa601",
   "metadata": {},
   "outputs": [],
   "source": [
    "df = get_url_data(None)\n",
    "print(df.info())"
   ]
  },
  {
   "cell_type": "code",
   "execution_count": null,
   "id": "5e17a554-c239-46df-9eda-b0cc10098d1e",
   "metadata": {},
   "outputs": [],
   "source": [
    "# General stats on the crawled data\n",
    "df = df.loc[(~df[\"site\"].str.endswith(\"unpruned\")) & (~(df[\"site\"] == \"172.17.0.1:44320\"))]  # Remove all retest/evaluation data\n",
    "df[\"req_method\"] = df[\"req_method\"].apply(str)\n",
    "c_group = df.groupby([\"cookies\"])\n",
    "with open(\"tables/all_requests.tex\", \"w\") as f:\n",
    "    all_reqs = c_group[\"req_method\"].value_counts().unstack().sort_index(ascending=False)\n",
    "    all_reqs = all_reqs[[\"GET\", \"POST\", \"OPTIONS\", \"CONNECT\", \"HEAD\", \"PUT\", \"PATCH\", \"GET_HISTORY\"]]\n",
    "    display(all_reqs)\n",
    "    f.write(all_reqs.to_latex())\n",
    "display(c_group[\"site\"].nunique())\n",
    "display(c_group[\"real_site\"].nunique())\n",
    "nc_sites = pd.DataFrame(c_group[\"site\"].unique()[0])\n",
    "c_sites = pd.DataFrame(c_group[\"site\"].unique()[1])\n",
    "only = get_only_both({\"c\": c_sites, \"nc\": nc_sites}, (\"c\", \"nc\"), log=True)\n",
    "display(only)"
   ]
  },
  {
   "cell_type": "code",
   "execution_count": null,
   "id": "615f8a4b-3134-404b-8141-cfb3e0451ded",
   "metadata": {},
   "outputs": [],
   "source": [
    "# We only are interested in first-party get requests, so only get that subset\n",
    "# Get only first party GET requests\n",
    "df[\"site\"] = df[\"site\"].astype(\"str\")\n",
    "df[\"real_site\"] = df[\"real_site\"].astype(\"str\")\n",
    "first_party = df.loc[(df[\"site\"] == df[\"real_site\"]) & (df[\"req_method\"] == \"GET\")]\n",
    "\n",
    "\n",
    "# Only get the ones were we have one entry for cookies and one for no cookies\n",
    "count_urls = first_party.drop(columns=[\"resp_body_tika_info\", \"resp_body_info\"]).groupby([\"req_url\", \"site\", \"real_site\"])[\"cookies\"].agg([\"nunique\", \"count\"])\n",
    "\n",
    "# If count == 1, only the request with cookies succeeded the other failed for some reason (e.g., mitm proxy crashed, celery saving task crashed (contains null byte?), ...)\n",
    "# If count > 2, we observed different response codes for the same URL in the same state (e.g., we got rate limited in the mean time (429) or the resource moved (302) or is not modified (304), ...)\n",
    "# We exclude all with count == 1 (they have errors)\n",
    "# We exclude all with count > 2 (they are unstable within one state) \n",
    "display(count_urls.value_counts())\n",
    "count_index = count_urls[(count_urls[\"nunique\"] == 2) & (count_urls[\"count\"] == 2)].index\n",
    "first_party = first_party.set_index([\"req_url\", \"site\", \"real_site\"])\n",
    "response_pairs = first_party.loc[count_index].reset_index()"
   ]
  },
  {
   "cell_type": "code",
   "execution_count": null,
   "id": "7bc6eb4b-0877-4acd-b19e-700afb93de29",
   "metadata": {},
   "outputs": [],
   "source": [
    "# Entries before and after first_party Get pruning, and 2 results pruning\n",
    "print(df.shape)\n",
    "print(first_party.shape)\n",
    "print(response_pairs.shape)\n",
    "\n",
    "# Investigate the exceptions\n",
    "# Nunique == 1 (only observations for one state), count == N (total observations for the URL)\n",
    "count_index = count_urls[(count_urls[\"nunique\"] == 1) & (count_urls[\"count\"] == 2)].index\n",
    "first_party.loc[count_index]"
   ]
  },
  {
   "cell_type": "markdown",
   "id": "250a0a75-f175-4547-afad-38c4fe36a1f6",
   "metadata": {},
   "source": [
    "### Stats"
   ]
  },
  {
   "cell_type": "code",
   "execution_count": null,
   "id": "9f8ed7db-bcec-4a0d-8b0e-ba557381d932",
   "metadata": {},
   "outputs": [],
   "source": [
    "# Get stats for the responses considered?!\n",
    "display(response_pairs.groupby(\"cookies\")[[\"req_url\", \"site\", \"real_site\"]].nunique())\n",
    "header_frame = response_pairs.apply(process_responses, axis=1, result_type=\"expand\")\n",
    "display(header_frame)"
   ]
  },
  {
   "cell_type": "code",
   "execution_count": null,
   "id": "d47e39c1-e842-4632-9ae2-60c6dbf999a0",
   "metadata": {},
   "outputs": [],
   "source": [
    "# Which headers exist in our data\n",
    "acc = get_acc()\n",
    "acc = dict(sorted(acc.items(), key=lambda item: item[1], reverse=True))"
   ]
  },
  {
   "cell_type": "code",
   "execution_count": null,
   "id": "64049e88-1264-4444-906e-d8a9e944982d",
   "metadata": {},
   "outputs": [],
   "source": [
    "# Most common headers\n",
    "most_common = pd.DataFrame.from_dict(acc, orient=\"index\").reset_index().rename(columns={0: \"Count\", \"index\": \"Header\"}).head(15)\n",
    "with open(\"tables/most_common.tex\", \"w\") as f:\n",
    "    display(most_common)\n",
    "    f.write(most_common.to_latex(index=False))"
   ]
  },
  {
   "cell_type": "code",
   "execution_count": null,
   "id": "43df5a07-3c37-4c8e-8d91-31b1a1baaf26",
   "metadata": {},
   "outputs": [],
   "source": [
    "resp_over = header_frame.drop([\"hash_all\", \"hash_min_pruned\", \"hash_basic_pruned\"], axis=1).groupby(\"cookies\").nunique().T.reset_index().rename(columns={\"index\": \"Property\", False: \"No cookies\", True: \"Cookies\"})\n",
    "with open(\"tables/response_overview.tex\", \"w\") as f:\n",
    "    resp_over = resp_over[[\"Property\", \"Cookies\", \"No cookies\"]]\n",
    "    resp_over = resp_over.loc[~(resp_over[\"Property\"] == \"real_site\")]\n",
    "    resp_over = resp_over.replace({\"code\": \"status-code\"})\n",
    "    display(resp_over)\n",
    "    f.write(resp_over.to_latex(index=False))"
   ]
  },
  {
   "cell_type": "code",
   "execution_count": null,
   "id": "7d811d81-4481-4463-813f-ed24f7d8dc76",
   "metadata": {},
   "outputs": [],
   "source": [
    "# Summary of all headers and co., for both requests with and without cookies\n",
    "table_dict = display_response_summary(header_frame)"
   ]
  },
  {
   "cell_type": "code",
   "execution_count": null,
   "id": "73d4d9e9-0888-4009-8ab6-3edca5e03b42",
   "metadata": {},
   "outputs": [],
   "source": [
    "# This will crash the window/be very slow!\n",
    "res = display_response_summary(header_frame, check=[\"body\"])"
   ]
  },
  {
   "cell_type": "code",
   "execution_count": null,
   "id": "b806a154-004c-41dc-aa4e-25d6d0597daf",
   "metadata": {},
   "outputs": [],
   "source": [
    "table_dict[\"body\"] = res[\"body\"]"
   ]
  },
  {
   "cell_type": "code",
   "execution_count": null,
   "id": "c40de0de-d4d3-453f-aac9-c186105af4b9",
   "metadata": {},
   "outputs": [],
   "source": [
    "def get_sites(row, df, prop):\n",
    "    return df.loc[(df[prop] == row.iloc[0])][\"site\"].agg(\"nunique\")\n",
    "\n",
    "def get_body_info(row):\n",
    "    body_hash = row[\"body\"]\n",
    "    body = response_pairs.loc[response_pairs[\"resp_body_hash\"] == body_hash].iloc[0][\"resp_body_info\"].split(\": \")[1].split(\"\\\\n\")[0]\n",
    "    return body\n",
    "\n",
    "\n",
    "for key in table_dict:\n",
    "    print(key, len(table_dict[key].T))\n",
    "    if key in [\"x-frame-options\", \"code\", \"content-type\"]:\n",
    "        n = 27\n",
    "    elif key == \"total\":\n",
    "        continue\n",
    "    else:\n",
    "        n = 10\n",
    "    resp = table_dict[key].T.head(100)\n",
    "    resp = resp.rename(columns={False: \"No cookies\", True: \"Cookies\"})\n",
    "    resp = resp[[\"Cookies\", \"No cookies\"]].reset_index()\n",
    "    resp[\"Sites\"] = resp.apply(get_sites, df=header_frame, prop=key, axis=1)\n",
    "    resp[\"Total\"] = resp[\"Cookies\"] + resp[\"No cookies\"]\n",
    "    #resp = resp.sort_values([\"Sites\", \"Total\"], ascending=False)\n",
    "    resp = resp.loc[:, resp.columns != \"Total\"].head(n)\n",
    "    if key == \"body\":\n",
    "        resp[\"body\"] = resp.apply(get_body_info, axis=1)\n",
    "\n",
    "    display(resp)\n",
    "    with open(f\"tables/response_{key}.tex\", \"w\") as f:\n",
    "        f.write(resp.to_latex(index=False))"
   ]
  },
  {
   "cell_type": "code",
   "execution_count": null,
   "id": "95ace5f5-94b7-4136-afd3-4615801d873d",
   "metadata": {},
   "outputs": [],
   "source": [
    "# Groupby site, or even by site and cookies\n",
    "\n",
    "# Danger! Slow as it will output many tables!\n",
    "# display_response_summary(header_frame, index=\"site\")  # [\"site\", \"cookies\"]"
   ]
  },
  {
   "cell_type": "markdown",
   "id": "01fa6c56-1d63-428f-b74f-6c6edcefb467",
   "metadata": {},
   "source": [
    "## Response pairs"
   ]
  },
  {
   "cell_type": "code",
   "execution_count": null,
   "id": "b436b058-904c-4d5f-aaf1-38e73c86602f",
   "metadata": {},
   "outputs": [],
   "source": [
    "response_pairs"
   ]
  },
  {
   "cell_type": "code",
   "execution_count": null,
   "id": "091f80f3-f398-4cca-85dc-dd831bf32f5c",
   "metadata": {},
   "outputs": [],
   "source": [
    "# Process response headers (and status codes)\n",
    "header_frame = response_pairs.apply(process_responses, axis=1, result_type=\"expand\")"
   ]
  },
  {
   "cell_type": "code",
   "execution_count": null,
   "id": "6360e335-cbf6-459f-98cf-e3a0c54dacb9",
   "metadata": {},
   "outputs": [],
   "source": [
    "# Safe header frame to disk\n",
    "header_frame.to_pickle(\"data/header_frame\")"
   ]
  },
  {
   "cell_type": "code",
   "execution_count": null,
   "id": "9060862d-a074-4403-8825-d350fadbf8e7",
   "metadata": {},
   "outputs": [],
   "source": [
    "with pd.option_context(\"max_rows\", 200):\n",
    "    csp_diff = header_frame.groupby(\"url\")[\"content-security-policy\"].nunique().sort_values(ascending=False).to_frame()\n",
    "    display(csp_diff.loc[csp_diff[\"content-security-policy\"] == 2])"
   ]
  },
  {
   "cell_type": "code",
   "execution_count": null,
   "id": "ac0cc900-58f7-4b6c-8665-e9b5bc6ca46d",
   "metadata": {},
   "outputs": [],
   "source": [
    "sd_urls = header_frame.groupby([\"site\", \"url\"])[[\"hash_all\", \"hash_min_pruned\", \"hash_basic_pruned\"]].nunique().reset_index()"
   ]
  },
  {
   "cell_type": "code",
   "execution_count": null,
   "id": "cd985388-9c3a-482f-ac78-d145563b0d80",
   "metadata": {},
   "outputs": [],
   "source": [
    "for selection in [[\"hash_all\"], [\"hash_min_pruned\"], [\"hash_basic_pruned\"], [\"hash_all\", \"hash_min_pruned\", \"hash_basic_pruned\"]]:\n",
    "    display(sd_urls[selection].value_counts().to_frame())"
   ]
  },
  {
   "cell_type": "code",
   "execution_count": null,
   "id": "2c708bb8-fc44-4329-aecc-47b4a416e292",
   "metadata": {},
   "outputs": [],
   "source": [
    "# Print overview of SD-URLs\n",
    "sd_pairs = sd_urls[[\"hash_all\", \"hash_min_pruned\", \"hash_basic_pruned\"]].value_counts().to_frame().reset_index().sort_values([\"hash_all\", \"hash_min_pruned\", \"hash_basic_pruned\"]).replace({1: \"non SD\", 2: \"SD\"}).rename({\"hash_all\": \"Complete response\", \"hash_min_pruned\": \"Minimal pruning\", \"hash_basic_pruned\": \"Basic pruning\", 0: \"Count\"}, axis=1)\n",
    "with open(\"tables/sd_pairs.tex\", \"w\") as f:\n",
    "    display(sd_pairs)\n",
    "    f.write(sd_pairs.to_latex(index=False))"
   ]
  },
  {
   "cell_type": "markdown",
   "id": "5a035506-2604-4f85-be15-43c00ddd834c",
   "metadata": {},
   "source": [
    "### Compare results in db with pruning applied now"
   ]
  },
  {
   "cell_type": "code",
   "execution_count": null,
   "id": "70d664f2-c1e9-47ac-a61b-a2537d38f5b5",
   "metadata": {},
   "outputs": [],
   "source": [
    "site_results = get_pipeline_overview()\n",
    "pairs_dyn = site_results.loc[site_results[\"site\"].isin(response_pairs[\"site\"].tolist())]"
   ]
  },
  {
   "cell_type": "code",
   "execution_count": null,
   "id": "80d33687-0f7d-4d26-8856-4c90d6cc07c8",
   "metadata": {},
   "outputs": [],
   "source": [
    "pairs_pivot = pairs_dyn[[\"site\", \"num_urls\", \"num_basic_pruning\"]].sort_values(\"site\").copy()\n",
    "pairs_pivot[\"site\"] = pairs_pivot[\"site\"].astype(str)\n",
    "display(pairs_pivot.describe())\n",
    "pairs_pivot.loc[\"Total\"] = pairs_pivot.sum()\n",
    "display(pairs_pivot)"
   ]
  },
  {
   "cell_type": "code",
   "execution_count": null,
   "id": "4ffa0c50-2382-49d5-a6dd-e14a9164b809",
   "metadata": {},
   "outputs": [],
   "source": [
    "count_sd = lambda x: x.eq(2).sum()\n",
    "count_sd.__name__ = \"SD URLs\"\n",
    "count_non_sd = lambda x: x.eq(1).sum()\n",
    "count_non_sd.__name__ = \"Non SD URLs\"\n",
    "sd_pivot = sd_urls.pivot_table(index=\"site\", values=[\"hash_all\", \"hash_min_pruned\", \"hash_basic_pruned\"], aggfunc=(\"count\", count_sd, count_non_sd, \"mean\"))\n",
    "\n",
    "display(sd_pivot.describe())\n",
    "\n",
    "# sd_pivot.loc[\"Mean\"] = sd_pivot.mean()\n",
    "sd_pivot.loc[\"Total\"] = sd_pivot.sum()\n",
    "display(sd_pivot)"
   ]
  },
  {
   "cell_type": "code",
   "execution_count": null,
   "id": "fd68ec88-d718-4dc3-991a-9de15dbbd3b7",
   "metadata": {},
   "outputs": [],
   "source": [
    "# Differences in the data in the site_result table, and calculated from the url_data now\n",
    "sd_pivot_comp = sd_pivot[[(\"hash_all\", \"count\"), (\"hash_basic_pruned\", \"SD URLs\")]].reset_index().droplevel(1, axis=1).rename(columns={\"hash_all\": \"num_urls\", \"hash_basic_pruned\": \"num_basic_pruning\"})\n",
    "df = sd_pivot_comp.merge(pairs_pivot, on=[\"site\"], suffixes=(\"_sd\", \"_pairs\"))\n",
    "with pd.option_context(\"max_rows\", 20):\n",
    "    display(df.loc[(df[\"num_urls_sd\"] != df[\"num_urls_pairs\"]) | (df[\"num_basic_pruning_sd\"] != df[\"num_basic_pruning_pairs\"])])\n",
    "\n",
    "# If we run the basic pruning step now, it gives the same results as we have calculated from the url_data\n",
    "# This means that the url_data has changed since the run (e.g., the pipeline was started before all results got saved, or because of an incorrect rerun we changed some data)\n",
    "# As the differences are not large, it does not matter\n",
    "# The exact code from the dil pipeline, now generates the same results!\n",
    "af, d, poss, results = basic_pruning(get_url_data(\"bitly.com\"))\n",
    "print(d[\"URL\"].nunique(), poss[\"URL\"].nunique())"
   ]
  },
  {
   "cell_type": "markdown",
   "id": "0f05c31c-1f4f-4d8c-8f88-1ec415283182",
   "metadata": {},
   "source": [
    "### Body analysis"
   ]
  },
  {
   "cell_type": "code",
   "execution_count": null,
   "id": "5846605d-fef1-4bce-8ab7-919f696825b2",
   "metadata": {},
   "outputs": [],
   "source": [
    "# Different body out of remaining URLs\n",
    "basic_pruned = sd_urls.loc[sd_urls[\"hash_basic_pruned\"] == 2]\n",
    "response_pairs.loc[response_pairs[\"req_url\"].isin(basic_pruned[\"url\"].tolist())].groupby(\"req_url\")[\"resp_body_hash\"].nunique().value_counts()"
   ]
  },
  {
   "cell_type": "markdown",
   "id": "35f59e4d-c71d-426f-8b98-1e43b4b8b59c",
   "metadata": {},
   "source": [
    "### Tree SD-URLs analysis"
   ]
  },
  {
   "cell_type": "code",
   "execution_count": null,
   "id": "7de4e5bb-d155-4a42-9fff-b6e60e1cf4f6",
   "metadata": {},
   "outputs": [],
   "source": [
    "# Remaining URLs after tree pruning\n",
    "# Get unique URLs from this \n",
    "sites = pairs_dyn[\"site\"].tolist()\n",
    "leak_urls = url_list_to_tuples(pairs_dyn[\"dyn_conf_urls\"].tolist(), sites)\n",
    "display(leak_urls.groupby(\"browser\")[\"url\"].nunique())\n",
    "leak_methods_urls = leak_urls.groupby([\"browser\", \"url\"])[\"method\"].nunique()\n",
    "display(leak_methods_urls.groupby(\"browser\").describe())\n",
    "display(leak_methods_urls.describe().to_frame())"
   ]
  },
  {
   "cell_type": "code",
   "execution_count": null,
   "id": "c9452e03-07c2-4128-9523-38332da77ac9",
   "metadata": {},
   "outputs": [],
   "source": [
    "pairs_trees = leak_methods_urls.groupby(\"browser\").agg([\"mean\", \"std\", \"min\", \"median\", \"max\"]).round(2)\n",
    "with open(\"tables/pairs_trees.tex\", \"w\") as f:\n",
    "    display(pairs_trees)\n",
    "    f.write(pairs_trees.to_latex())\n"
   ]
  },
  {
   "cell_type": "markdown",
   "id": "07cef87b-6b48-4075-9af8-43da51f14fe3",
   "metadata": {},
   "source": [
    "### ? investigation zone"
   ]
  },
  {
   "cell_type": "code",
   "execution_count": null,
   "id": "37ffc40a-ca67-4564-9314-ec93f296511a",
   "metadata": {},
   "outputs": [],
   "source": [
    "header_frame.loc[header_frame[\"url\"] == \"https://fotos.perfil.com/2021/09/11/trim/248/140/20210912juez-deloredo-1229108.jpg?webp\"]"
   ]
  },
  {
   "cell_type": "code",
   "execution_count": null,
   "id": "b794043a-1891-4463-982a-fc5fe6b781c1",
   "metadata": {},
   "outputs": [],
   "source": [
    "header_frame_cookies = header_frame.loc[header_frame[\"cookies\"] == True]\n",
    "header_frame_no_cookies = header_frame.loc[header_frame[\"cookies\"] == False]\n",
    "pairs = header_frame_cookies.merge(header_frame_no_cookies, on=\"url\", suffixes=(\"_c\", \"_n\"))\n",
    "pairs = pairs.reindex(sorted(pairs.columns), axis=1)"
   ]
  },
  {
   "cell_type": "code",
   "execution_count": null,
   "id": "5c4ba4d4-4727-462e-a193-64c472e0e8ba",
   "metadata": {},
   "outputs": [],
   "source": [
    "pairs.loc[(pairs[\"cross-origin-opener-policy_c\"] == \"same-origin-allow-popups;report-to=\\\"coop\\\"\") & (pairs[\"cross-origin-opener-policy_n\"] == \"Empty\")][\"url\"].tolist()"
   ]
  },
  {
   "cell_type": "code",
   "execution_count": null,
   "id": "5e6c0c4f-4d29-4bf0-9ad0-70b3523d7953",
   "metadata": {},
   "outputs": [],
   "source": [
    "def disp_anti_pattern(pairs, prop, val_c, val_n):\n",
    "    print(prop, val_c, val_n)\n",
    "    display(pairs.loc[(pairs[f\"{prop}_c\"] == val_c) & (pairs[f\"{prop}_n\"] == val_n)][\"site_c\"].agg([\"nunique\", \"unique\"]).to_frame())\n",
    "    return pairs.loc[(pairs[f\"{prop}_c\"] == val_c) & (pairs[f\"{prop}_n\"] == val_n)][\"site_c\"].agg(\"unique\")\n",
    "\n",
    "\n",
    "\n",
    "# sites that set nosniff or xfo only on logged in users\n",
    "with pd.option_context(\"max_colwidth\", None):    \n",
    "    \n",
    "    same_empty = disp_anti_pattern(pairs, \"x-frame-options\", \"SAMEORIGIN\", \"Empty\")\n",
    "    disp_anti_pattern(pairs, \"x-frame-options\", \"DENY\", \"SAMEORIGIN\")\n",
    "    empty_same = disp_anti_pattern(pairs, \"x-frame-options\", \"Empty\", \"SAMEORIGIN\")\n",
    "    disp_anti_pattern(pairs, \"x-frame-options\", \"DENY\", \"deny\")\n",
    "    \n",
    "    print(set(same_empty) & set(empty_same))\n",
    "    \n",
    "    disp_anti_pattern(pairs, \"content-disposition\", \"Empty\", \"inline\")\n",
    "\n",
    "    no_em = disp_anti_pattern(pairs, \"x-content-type-options\", \"nosniff\", \"Empty\")\n",
    "    em_no = disp_anti_pattern(pairs, \"x-content-type-options\", \"Empty\", \"nosniff\")\n",
    "    print(set(no_em) & set(em_no))\n",
    "    \n",
    "    \n",
    "    disp_anti_pattern(pairs, \"cross-origin-resource-policy\", \"cross-origin\", \"Empty\")\n",
    "    disp_anti_pattern(pairs, \"cross-origin-resource-policy\", \"Empty\", \"cross-origin\")\n",
    "\n",
    "    disp_anti_pattern(pairs, \"code\", 200, 429)\n",
    "\n",
    "\n"
   ]
  },
  {
   "cell_type": "markdown",
   "id": "8211c179-fe7f-49e9-9790-677028aa0e5c",
   "metadata": {},
   "source": [
    "### Response pairs every header!"
   ]
  },
  {
   "cell_type": "code",
   "execution_count": null,
   "id": "690d8813-d548-4bb3-8055-dbf8edb1fc0d",
   "metadata": {},
   "outputs": [],
   "source": [
    "pairs"
   ]
  },
  {
   "cell_type": "code",
   "execution_count": null,
   "id": "359b2d6d-6660-4c79-9386-b8c79fd52229",
   "metadata": {},
   "outputs": [],
   "source": [
    "def get_sites(row, pairs):\n",
    "    return pairs.loc[(pairs[f\"{prop}_c\"] == row.iloc[0]) & (pairs[f\"{prop}_n\"] == row.iloc[1])][\"site_c\"].agg(\"nunique\")\n",
    "\n",
    "# Response pair changes on one property at a time\n",
    "for prop in [\"content-type\", \"x-frame-options\", \"content-disposition\", \"cross-origin-opener-policy\", \"x-content-type-options\", \"cross-origin-resource-policy\", \"content-security-policy\", \"location\", \"code\"]:\n",
    "    with pd.option_context(\"max_rows\", 300):\n",
    "        vc = pairs[[f\"{prop}_c\", f\"{prop}_n\"]].value_counts().to_frame().reset_index()\n",
    "        vc = vc.loc[vc[f\"{prop}_c\"] != vc[f\"{prop}_n\"]]\n",
    "        vc[\"sites\"] = vc.apply(get_sites, pairs=pairs, axis=1)\n",
    "        vc = vc.rename(columns={0: \"URLs\"})\n",
    "        vc = vc.sort_values([\"sites\", \"URLs\"], ascending=False)\n",
    "        display(vc.head(30))\n",
    "        with open(f\"tables/pairs_{prop}.tex\", \"w\") as f:\n",
    "            f.write(vc.head(30).to_latex(index=False))"
   ]
  },
  {
   "cell_type": "markdown",
   "id": "c51d0399-8e3a-420f-9f0a-8632e7f52493",
   "metadata": {},
   "source": [
    "## Cookie stats"
   ]
  },
  {
   "cell_type": "code",
   "execution_count": null,
   "id": "01e6fbcd-21f6-4e00-b91c-8d0e9f8291e4",
   "metadata": {},
   "outputs": [],
   "source": [
    "# Cookie stats\n",
    "# For 21 sites, we have lost the saved cookies (due to the server crash) remove them from the analysis\n",
    "cookie_stats = pairs_dyn.loc[pairs_dyn[\"cookies\"] != {}][[\"cookies\", \"site\"]].groupby([\"site\"], group_keys=False).apply(get_cookie_stats)\n",
    "cookie_stats[\"site\"] = cookie_stats[\"site\"].astype(str)"
   ]
  },
  {
   "cell_type": "code",
   "execution_count": null,
   "id": "18bc5e93-8829-413e-a33c-1efa718534c8",
   "metadata": {},
   "outputs": [],
   "source": [
    "stats = cookie_stats.pivot_table(index=[\"sameSite\", \"secure\", \"httpOnly\"], values=[\"site\"], aggfunc=[\"count\", \"nunique\"]).droplevel(1, axis=1)\n",
    "stats = stats.rename(columns={\"count\": \"Cookies\", \"nunique\": \"Sites\"})\n",
    "display(stats)\n",
    "with open(\"tables/cookies_overview.tex\", \"w\") as f:\n",
    "    f.write(stats.to_latex())"
   ]
  },
  {
   "cell_type": "code",
   "execution_count": null,
   "id": "d705bdcc-7207-44c7-b1a5-345a16b7c155",
   "metadata": {},
   "outputs": [],
   "source": [
    "display(cookie_stats.describe())\n",
    "display(cookie_stats[\"sameSite\"].value_counts().to_frame())\n",
    "display(cookie_stats[\"httpOnly\"].value_counts().to_frame())\n",
    "display(cookie_stats[\"secure\"].value_counts().to_frame())\n",
    "# display(cookie_stats)"
   ]
  },
  {
   "cell_type": "code",
   "execution_count": null,
   "id": "02d8a1b1-b6b0-41c1-bd21-d15acbfdce55",
   "metadata": {},
   "outputs": [],
   "source": [
    "with pd.option_context(\"max_rows\", 50):\n",
    "    # Cookie settings per site\n",
    "    cs = cookie_stats.pivot_table(index=\"site\", values=[\"sameSite\"], aggfunc=(\"nunique\", \"unique\")).droplevel(0, axis=1)\n",
    "    cs[\"unique\"] = cs[\"unique\"].apply(tuple).apply(lambda x: sorted(x)).apply(lambda x: \", \".join(x))\n",
    "    #display(cs.value_counts().to_frame())\n",
    "    cookie_samesite = cs.value_counts().to_frame().reset_index().rename(columns={0: \"sites\", \"unique\": \"values\"})[[\"values\", \"sites\"]]\n",
    "    with open(\"tables/cookies_samesite.tex\", \"w\") as f:\n",
    "        display(cookie_samesite)\n",
    "        f.write(cookie_samesite.to_latex(index=False))\n",
    "    \n",
    "    \n",
    "    # Additional?\n",
    "    cs = cookie_stats.pivot_table(index=\"site\", values=[\"secure\", \"sameSite\"], aggfunc=(\"nunique\", \"unique\", \"count\"))\n",
    "    \n",
    "    display(cs.sort_values((\"sameSite\", \"nunique\")))\n",
    "    cs[(\"sameSite\", \"unique\")] = cs[(\"sameSite\", \"unique\")].apply(tuple).apply(lambda x: sorted(x)).apply(str)\n",
    "    cs[(\"secure\", \"unique\")] = cs[(\"secure\", \"unique\")].apply(tuple).apply(lambda x: sorted(x)).apply(str)\n",
    "\n",
    "    display(cs.value_counts().to_frame())\n"
   ]
  },
  {
   "cell_type": "code",
   "execution_count": null,
   "id": "b5579eca-233c-4dc5-b204-3bb995d344de",
   "metadata": {},
   "outputs": [],
   "source": [
    "# Get all cookies with sameSite=None + secure=False (invalid in spec and chrome -> behavior: lax)\n",
    "none_insecure = cookie_stats.loc[(cookie_stats[\"sameSite\"] == \"None\") & (cookie_stats[\"secure\"] == False)]\n",
    "display(none_insecure)\n",
    "none_insecure.describe()"
   ]
  },
  {
   "cell_type": "code",
   "execution_count": null,
   "id": "6d283fd0-bbef-4e59-8874-eaceb2ce9748",
   "metadata": {},
   "outputs": [],
   "source": []
  }
 ],
 "metadata": {
  "language_info": {
   "name": "python",
   "pygments_lexer": "ipython3"
  }
 },
 "nbformat": 4,
 "nbformat_minor": 5
}
